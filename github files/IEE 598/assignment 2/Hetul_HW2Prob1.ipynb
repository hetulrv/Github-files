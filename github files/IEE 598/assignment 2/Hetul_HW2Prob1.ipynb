{
 "cells": [
  {
   "cell_type": "markdown",
   "metadata": {},
   "source": [
    "## Ridge Regression Optimization\n",
    "\n",
    "We generate two highly correlated features X1 and X2 from a multli-variate normal distribution, we would like to implement the Ridge regression."
   ]
  },
  {
   "cell_type": "code",
   "execution_count": 4,
   "metadata": {},
   "outputs": [],
   "source": [
    "import numpy as np\n",
    "import matplotlib.pyplot as plt\n",
    "%matplotlib inline  \n",
    "# Please try to use only these packages for computation\n",
    "\n",
    "n = 1000\n",
    "p = 2\n",
    "#X1 = np.linspace(0,1,n)\n",
    "#X2 = X1 + np.random.normal\n",
    "mean = np.zeros((p))\n",
    "val = 0.99\n",
    "cov = np.ones((p,p))*val\n",
    "cov = cov + np.eye(p)*(1-val)\n",
    "\n",
    "np.random.seed(10)\n",
    "X = np.random.multivariate_normal(mean, cov, n)\n",
    "theta_true = np.ones((p,1))\n",
    "\n"
   ]
  },
  {
   "cell_type": "markdown",
   "metadata": {},
   "source": [
    "We first generate data based on $y=X\\theta+e$, where $e$ follows $N(0,\\delta^2)$, with $\\delta=0.5$"
   ]
  },
  {
   "cell_type": "code",
   "execution_count": 7,
   "metadata": {},
   "outputs": [],
   "source": [
    "delta=0.5\n",
    "e=np.random.normal(0,delta,(n,1))\n",
    "y=np.dot(X,theta_true)+e"
   ]
  },
  {
   "cell_type": "markdown",
   "metadata": {},
   "source": [
    "### Part 1: Analytical solution\n",
    "(1) Let's compute the Least Square analytical solution directly by solving $X^T X \\theta = X^T y$"
   ]
  },
  {
   "cell_type": "code",
   "execution_count": 22,
   "metadata": {},
   "outputs": [
    {
     "name": "stdout",
     "output_type": "stream",
     "text": [
      "[[1.10034069]\n",
      " [0.89299444]]\n"
     ]
    }
   ],
   "source": [
    "#IdentityMatrix = np.identity(p)\n",
    "IdentityMatrix = 0\n",
    "lambda1 = 20\n",
    "beta_OLS_est = np.dot(np.linalg.inv(np.dot(X.T,X)),np.dot(X.T,y))\n",
    "print(beta_OLS_est)\n"
   ]
  },
  {
   "cell_type": "markdown",
   "metadata": {},
   "source": [
    "(2) Let's compute the Ridge Regression analytical solution directly by solving $(X^T X +\\lambda_1 I) \\theta = X^T y$"
   ]
  },
  {
   "cell_type": "code",
   "execution_count": 27,
   "metadata": {},
   "outputs": [
    {
     "name": "stdout",
     "output_type": "stream",
     "text": [
      "[[1.0053259 ]\n",
      " [0.95681108]]\n"
     ]
    }
   ],
   "source": [
    "IdentityMatrix1 = np.identity(p)\n",
    "lambda1 = 30\n",
    "beta_ridge_est = np.dot(np.linalg.inv(X.T.dot(X) + (lambda1 * IdentityMatrix1)), np.dot(X.T,y))\n",
    "print(beta_ridge_est)\n"
   ]
  },
  {
   "cell_type": "markdown",
   "metadata": {},
   "source": [
    "### Part 2: Gradient Descent\n",
    "\n",
    "(a) Let's use Gradient Descent to solve the solution, first, we would like to define the loss Function. \n",
    "We can define the `computeCost(X,y,lambda1,beta)` by\n",
    "$\\|y-X\\beta\\|^2+\\lambda_1 * \\|\\beta\\|^2$\n",
    "and its gradient in `computeGrad(X, y, lambda1,beta)`"
   ]
  },
  {
   "cell_type": "code",
   "execution_count": 29,
   "metadata": {},
   "outputs": [],
   "source": [
    "def computeCost(X, y,lambda1, beta):\n",
    "# Put your code here to estimate the cost function\n",
    "    yhat=np.matmul(X,beta)\n",
    "    diff=y-yhat\n",
    "    norm=np.linalg.norm(diff)\n",
    "    c1=norm**2\n",
    "    c2=(lambda1*((np.linalg.norm(beta))**2))\n",
    "    compute_cost = c1 + c2\n",
    "    return compute_cost    \n",
    "\n",
    "def computeGrad(X, y,lambda1, beta):\n",
    "# Put your code here to estimate the Gradient function\n",
    "    yhat=np.matmul(X,beta)\n",
    "    diff=y-yhat\n",
    "   \n",
    "    grad1= ((-2)*np.dot(X.T,diff))\n",
    " \n",
    "    grad2 = 2*lambda1*beta\n",
    "   \n",
    "    compute_gradient=(grad1+grad2)\n",
    "    return compute_gradient"
   ]
  },
  {
   "cell_type": "markdown",
   "metadata": {},
   "source": [
    "(b) Let's use Gradient Descent to update parameter until convergence, please try different stepsize to see the Convergence performance. "
   ]
  },
  {
   "cell_type": "code",
   "execution_count": 37,
   "metadata": {},
   "outputs": [
    {
     "name": "stdout",
     "output_type": "stream",
     "text": [
      "Gradient descent with 1000 iterations. step_size=0.00000 and initial beta=[-1.00000,-1.50000]\n",
      "\n",
      "Iteration 0 --- beta:[ -1.00000, -1.50000] --- Cost: 19409.36672 \n",
      "Iteration 100 --- beta:[ -0.28992, -0.78622] --- Cost: 9167.58771 \n",
      "Iteration 200 --- beta:[ 0.19303, -0.29965] --- Cost: 4419.14312 \n",
      "Iteration 300 --- beta:[ 0.52133, 0.03220] --- Cost: 2217.58240 \n",
      "Iteration 400 --- beta:[ 0.74433, 0.25869] --- Cost: 1196.83799 \n",
      "Iteration 500 --- beta:[ 0.89564, 0.41345] --- Cost: 723.55781 \n",
      "Iteration 600 --- beta:[ 0.99813, 0.51936] --- Cost: 504.09982 \n",
      "Iteration 700 --- beta:[ 1.06739, 0.59200] --- Cost: 402.32230 \n",
      "Iteration 800 --- beta:[ 1.11403, 0.64198] --- Cost: 355.10561 \n",
      "Iteration 900 --- beta:[ 1.14527, 0.67654] --- Cost: 333.18552 \n",
      "\n",
      " final beta: [ 1.16602, 0.70058] \n",
      "\n",
      "Gradient descent with 1000 iterations. step_size=0.00000 and initial beta=[-1.00000,-1.50000]\n",
      "\n",
      "Iteration 0 --- beta:[ -1.00000, -1.50000] --- Cost: 19409.36672 \n",
      "Iteration 100 --- beta:[ 0.52446, 0.03533] --- Cost: 2200.68375 \n",
      "Iteration 200 --- beta:[ 1.00011, 0.52133] --- Cost: 500.74653 \n",
      "Iteration 300 --- beta:[ 1.14620, 0.67747] --- Cost: 332.68642 \n",
      "Iteration 400 --- beta:[ 1.18880, 0.72985] --- Cost: 315.94372 \n",
      "Iteration 500 --- beta:[ 1.19895, 0.74955] --- Cost: 314.15388 \n",
      "Iteration 600 --- beta:[ 1.19898, 0.75890] --- Cost: 313.84726 \n",
      "Iteration 700 --- beta:[ 1.19590, 0.76493] --- Cost: 313.69311 \n",
      "Iteration 800 --- beta:[ 1.19192, 0.76984] --- Cost: 313.55972 \n",
      "Iteration 900 --- beta:[ 1.18772, 0.77433] --- Cost: 313.43380 \n",
      "\n",
      " final beta: [ 1.18352, 0.77862] \n",
      "\n",
      "Gradient descent with 1000 iterations. step_size=0.00001 and initial beta=[-1.00000,-1.50000]\n",
      "\n",
      "Iteration 0 --- beta:[ -1.00000, -1.50000] --- Cost: 19409.36672 \n",
      "Iteration 100 --- beta:[ 1.16916, 0.70373] --- Cost: 321.87769 \n",
      "Iteration 200 --- beta:[ 1.19718, 0.76322] --- Cost: 313.73950 \n",
      "Iteration 300 --- beta:[ 1.18351, 0.77863] --- Cost: 313.31349 \n",
      "Iteration 400 --- beta:[ 1.17009, 0.79209] --- Cost: 312.95195 \n",
      "Iteration 500 --- beta:[ 1.15765, 0.80452] --- Cost: 312.64292 \n",
      "Iteration 600 --- beta:[ 1.14616, 0.81601] --- Cost: 312.37875 \n",
      "Iteration 700 --- beta:[ 1.13553, 0.82663] --- Cost: 312.15295 \n",
      "Iteration 800 --- beta:[ 1.12571, 0.83646] --- Cost: 311.95994 \n",
      "Iteration 900 --- beta:[ 1.11663, 0.84554] --- Cost: 311.79495 \n",
      "\n",
      " final beta: [ 1.10823, 0.85393] \n",
      "\n",
      "Gradient descent with 1000 iterations. step_size=0.00003 and initial beta=[-1.00000,-1.50000]\n",
      "\n",
      "Iteration 0 --- beta:[ -1.00000, -1.50000] --- Cost: 19409.36672 \n",
      "Iteration 100 --- beta:[ 1.18349, 0.77867] --- Cost: 313.31257 \n",
      "Iteration 200 --- beta:[ 1.14611, 0.81606] --- Cost: 312.37760 \n",
      "Iteration 300 --- beta:[ 1.11657, 0.84560] --- Cost: 311.79387 \n",
      "Iteration 400 --- beta:[ 1.09322, 0.86894] --- Cost: 311.42943 \n",
      "Iteration 500 --- beta:[ 1.07478, 0.88738] --- Cost: 311.20189 \n",
      "Iteration 600 --- beta:[ 1.06020, 0.90195] --- Cost: 311.05984 \n",
      "Iteration 700 --- beta:[ 1.04869, 0.91346] --- Cost: 310.97114 \n",
      "Iteration 800 --- beta:[ 1.03959, 0.92256] --- Cost: 310.91577 \n",
      "Iteration 900 --- beta:[ 1.03240, 0.92975] --- Cost: 310.88120 \n",
      "\n",
      " final beta: [ 1.02672, 0.93543] \n",
      "\n",
      "Gradient descent with 1000 iterations. step_size=0.00010 and initial beta=[-1.00000,-1.50000]\n",
      "\n",
      "Iteration 0 --- beta:[ -1.00000, -1.50000] --- Cost: 19409.36672 \n",
      "Iteration 100 --- beta:[ 1.10794, 0.85422] --- Cost: 311.64931 \n",
      "Iteration 200 --- beta:[ 1.05203, 0.91012] --- Cost: 310.99472 \n",
      "Iteration 300 --- beta:[ 1.02658, 0.93556] --- Cost: 310.85915 \n",
      "Iteration 400 --- beta:[ 1.01500, 0.94714] --- Cost: 310.83107 \n",
      "Iteration 500 --- beta:[ 1.00973, 0.95241] --- Cost: 310.82526 \n",
      "Iteration 600 --- beta:[ 1.00733, 0.95481] --- Cost: 310.82406 \n",
      "Iteration 700 --- beta:[ 1.00624, 0.95590] --- Cost: 310.82381 \n",
      "Iteration 800 --- beta:[ 1.00574, 0.95640] --- Cost: 310.82375 \n",
      "Iteration 900 --- beta:[ 1.00551, 0.95662] --- Cost: 310.82374 \n",
      "\n",
      " final beta: [ 1.00541, 0.95673] \n",
      "\n"
     ]
    }
   ],
   "source": [
    "def gradientDescent(X, y, beta, step_size, numIterations):\n",
    "# Implement your gradient descient algorithm here\n",
    "    \n",
    "    beta_val=[]\n",
    "    loss_val=[]\n",
    "    for i in range(0, numIterations):\n",
    "        cost = computeCost(X, y, lambda1, beta)\n",
    "        #print(cost)\n",
    "        loss_val.append(cost)\n",
    "        if i%100==0:\n",
    "            print(\"Iteration %d --- beta:[ %0.5f, %0.5f] --- Cost: %0.5f \" % (i, beta.flatten()[0],beta.flatten()[1],cost))\n",
    "        gradient = computeGrad(X, y,lambda1, beta)\n",
    "        beta = beta - step_size*gradient\n",
    "        beta_val.append(beta)\n",
    "    print(\"\\n final beta: [ %0.5f, %0.5f] \\n\"%(beta.flatten()[0],beta.flatten()[1]))\n",
    "    return beta,beta_val,loss_val\n",
    "\n",
    "numIterations=1000\n",
    "step_size_1=0.000001\n",
    "init_beta=np.array([[-1.0],[-1.5]])\n",
    "print(\"Gradient descent with %4d iterations. step_size=%6.5f and initial beta=[%0.5f,%0.5f]\\n\"%(numIterations,step_size_1,init_beta.flatten()[0],init_beta.flatten()[1]))\n",
    "beta,beta_val,loss_val_1=gradientDescent(X, y, init_beta, step_size_1, numIterations)\n",
    "step_size_2=0.000003\n",
    "print(\"Gradient descent with %4d iterations. step_size=%6.5f and initial beta=[%0.5f,%0.5f]\\n\"%(numIterations,step_size_2,init_beta.flatten()[0],init_beta.flatten()[1]))\n",
    "beta,beta_val,loss_val_2=gradientDescent(X, y, init_beta, step_size_2, numIterations)\n",
    "step_size_3=0.000010\n",
    "print(\"Gradient descent with %4d iterations. step_size=%6.5f and initial beta=[%0.5f,%0.5f]\\n\"%(numIterations,step_size_3,init_beta.flatten()[0],init_beta.flatten()[1]))\n",
    "beta,beta_val,loss_val_3=gradientDescent(X, y, init_beta, step_size_3, numIterations)\n",
    "step_size_4=0.000030\n",
    "print(\"Gradient descent with %4d iterations. step_size=%6.5f and initial beta=[%0.5f,%0.5f]\\n\"%(numIterations,step_size_4,init_beta.flatten()[0],init_beta.flatten()[1]))\n",
    "beta,beta_val,loss_val_4=gradientDescent(X, y, init_beta, step_size_4, numIterations)\n",
    "step_size_5=0.00010\n",
    "print(\"Gradient descent with %4d iterations. step_size=%6.5f and initial beta=[%0.5f,%0.5f]\\n\"%(numIterations,step_size_5,init_beta.flatten()[0],init_beta.flatten()[1]))\n",
    "beta,beta_val,loss_val_5=gradientDescent(X, y, init_beta, step_size_5, numIterations)\n"
   ]
  },
  {
   "cell_type": "markdown",
   "metadata": {},
   "source": [
    "(c) Normally, it is good to visualize the loss function over time, please plot the loss (cost) function for theta in each iteration. "
   ]
  },
  {
   "cell_type": "code",
   "execution_count": 38,
   "metadata": {},
   "outputs": [
    {
     "data": {
      "text/plain": [
       "Text(0.5,1,'Loss Curve for various step sizes')"
      ]
     },
     "execution_count": 38,
     "metadata": {},
     "output_type": "execute_result"
    },
    {
     "data": {
      "image/png": "[encoded data removed]",
      "text/plain": [
       "<matplotlib.figure.Figure at 0x23c8d22d198>"
      ]
     },
     "metadata": {},
     "output_type": "display_data"
    }
   ],
   "source": [
    "plt.gca().set_ylabel('LOSS VALUE')\n",
    "plt.gca().set_xlabel('ITERATION COUNT')\n",
    "\n",
    "plt.plot(loss_val_1,label='step size =' + str(step_size_1))\n",
    "plt.plot(loss_val_2,label='step size =' + str(step_size_2))\n",
    "plt.plot(loss_val_3,label='step size =' + str(step_size_3))\n",
    "plt.plot(loss_val_4,label='step size =' + str(step_size_4))\n",
    "plt.plot(loss_val_5,label='step size =' + str(step_size_5))\n",
    "plt.legend()\n",
    "\n",
    "plt.gca().set_title('Loss Curve for various step sizes')\n"
   ]
  }
 ],
 "metadata": {
  "anaconda-cloud": {},
  "kernelspec": {
   "display_name": "Python 3",
   "language": "python",
   "name": "python3"
  },
  "language_info": {
   "codemirror_mode": {
    "name": "ipython",
    "version": 3
   },
   "file_extension": ".py",
   "mimetype": "text/x-python",
   "name": "python",
   "nbconvert_exporter": "python",
   "pygments_lexer": "ipython3",
   "version": "3.6.4"
  }
 },
 "nbformat": 4,
 "nbformat_minor": 1
}
