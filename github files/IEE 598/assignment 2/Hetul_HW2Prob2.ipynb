{
 "cells": [
  {
   "cell_type": "markdown",
   "metadata": {},
   "source": [
    "# Homework 2 Problem 2\n",
    "Please finish the following code and copy the nessary result to the report for the discussion"
   ]
  },
  {
   "cell_type": "markdown",
   "metadata": {},
   "source": [
    "### Part 0, data generation function\n",
    "We would like to first import some necessary Libraries for this task and then write down the data generation function as follow. \n",
    "\n",
    "We also create the polynomial design matrix up to order k, which is given in polynomialfeatures function. \n"
   ]
  },
  {
   "cell_type": "code",
   "execution_count": 30,
   "metadata": {},
   "outputs": [],
   "source": [
    "import matplotlib.pyplot as plt\n",
    "import numpy as np\n",
    "from sklearn.linear_model import Ridge\n",
    "from numpy.linalg import inv\n",
    "%matplotlib inline\n",
    "\n",
    "def ftrue(x):\n",
    "    return np.sin(x)\n",
    "def generatedata(ndata,seed):\n",
    "    rng = np.random.RandomState(seed)\n",
    "    Xtrain = np.linspace(0,1,ndata)\n",
    "    Ytrain = np.sin(Xtrain*10.0) + 0.1 * rng.randn(ndata)\n",
    "    return Xtrain,Ytrain\n",
    "\n",
    "X,Y = generatedata(100,1)\n",
    "\n",
    "\n",
    "def polynomialfeatures(x,k):\n",
    "    if len(x.shape) == 1:\n",
    "        x = x[:,np.newaxis] \n",
    "    index = range(1,k+1)\n",
    "    X = np.concatenate([x**i for i in index],1)\n",
    "    return X\n",
    "\n"
   ]
  },
  {
   "cell_type": "markdown",
   "metadata": {},
   "source": [
    "### Part 1: Use BIC for tuning parameter selection\n",
    "Please feel free to use the sklearn library [sklearn.linear_model.Ridge](http://scikit-learn.org/stable/modules/generated/sklearn.linear_model.Ridge.html) to solve the Ridge regression in this section to find the tuning parameter selection. We don't need to do standarlization in this example since all $x^i\\in [0,1]$ if $x \\in [0,1]$, which are already in the same scale.\n",
    "\n",
    "(a) Please compute and plot on how do the $RSS=\\|y-\\hat{y}\\|^{2}$ and degree of freedom $df=trace(X(X^{T}X+\\lambda I)^{-1}X^{T})$ change according to the tuning parameter $\\lambda$. \n",
    "\n",
    "\n"
   ]
  },
  {
   "cell_type": "code",
   "execution_count": 31,
   "metadata": {},
   "outputs": [
    {
     "name": "stdout",
     "output_type": "stream",
     "text": [
      "BIC values are:\n",
      " [ 13.88919634  12.40444272  11.07247853   9.4133197    9.73088628\n",
      " 188.34691967 293.06075256 312.45922949 383.80634709 385.48820754\n",
      " 384.85548041 383.91423961]\n",
      "df values are:\n",
      " [9.82326058 9.3090507  8.96051229 8.52024861 7.54431132 5.20387301\n",
      " 4.56413472 3.86486735 2.3290028  1.75074531 1.48786667 1.21930632]\n",
      "RSS values are\n",
      " [ 0.73089468  0.73737905  0.73939569  0.74212414  0.77870771  5.17491021\n",
      " 15.18671989 19.04126709 41.71283722 43.56513935 43.81761966 43.94730335]\n"
     ]
    },
    {
     "data": {
      "text/plain": [
       "Text(0.5,0,'lambda values')"
      ]
     },
     "execution_count": 31,
     "metadata": {},
     "output_type": "execute_result"
    },
    {
     "data": {
      "image/png": "[encoded data removed]",
      "text/plain": [
       "<matplotlib.figure.Figure at 0x1c04c0f5748>"
      ]
     },
     "metadata": {},
     "output_type": "display_data"
    }
   ],
   "source": [
    "from sklearn import preprocessing\n",
    "lambdaall = [1e-13, 1e-12,1e-11,1e-10, 1e-8, 1e-4, 1e-3,1e-2, 1, 5, 10, 20]\n",
    "Xtrain,Ytrain = generatedata(100,1)\n",
    "X1 = polynomialfeatures(Xtrain,10)\n",
    "RSS = np.array(lambdaall)*0\n",
    "df = np.array(lambdaall)*0\n",
    "BIC = np.array(lambdaall)*0\n",
    "for i,lambda1 in enumerate(lambdaall):\n",
    "# Please complete this part, please use np.trace to compute the trace of a matrix\n",
    "    clf1 = Ridge(alpha=lambda1,normalize=True)\n",
    "    clf1.fit(polynomialfeatures(Xtrain,10),Ytrain)\n",
    "    RSS[i] = np.sum((Ytrain-(clf1.predict(polynomialfeatures(Xtrain,10))))**2)\n",
    "    inv_mat = inv((np.dot(X1.T,X1) + lambda1*np.identity(10)))\n",
    "    df[i] = np.trace(np.dot(np.dot(X1,inv_mat),X1.T))\n",
    "    BIC[i] = 100*np.log(RSS[i]) + np.log(100)*df[i] \n",
    "    \n",
    "print(\"BIC values are:\\n\", BIC)\n",
    "print(\"df values are:\\n\", df)\n",
    "print(\"RSS values are\\n\", RSS)\n",
    "\n",
    "plt.plot(lambdaall,RSS, color = \"Green\")\n",
    "plt.ylabel(\"RSS values\")\n",
    "plt.xlabel(\"lambda values\")\n"
   ]
  },
  {
   "cell_type": "code",
   "execution_count": 32,
   "metadata": {},
   "outputs": [
    {
     "data": {
      "text/plain": [
       "Text(0.5,0,'lambda values')"
      ]
     },
     "execution_count": 32,
     "metadata": {},
     "output_type": "execute_result"
    },
    {
     "data": {
      "image/png": "[encoded data removed]",
      "text/plain": [
       "<matplotlib.figure.Figure at 0x1c04be715f8>"
      ]
     },
     "metadata": {},
     "output_type": "display_data"
    }
   ],
   "source": [
    "plt.plot(lambdaall,df, color = \"red\")\n",
    "plt.ylabel(\"DF values\")\n",
    "plt.xlabel(\"lambda values\")"
   ]
  },
  {
   "cell_type": "markdown",
   "metadata": {},
   "source": [
    "(b) Please plot the following BIC criterion function for each tuning parameter $\\lambda$. $BIC=n\\log(RSS)+df\\cdot\\log(n)$"
   ]
  },
  {
   "cell_type": "code",
   "execution_count": 33,
   "metadata": {},
   "outputs": [
    {
     "data": {
      "text/plain": [
       "Text(0.5,0,'lambda values')"
      ]
     },
     "execution_count": 33,
     "metadata": {},
     "output_type": "execute_result"
    },
    {
     "data": {
      "image/png": "[encoded data removed]",
      "text/plain": [
       "<matplotlib.figure.Figure at 0x1c04c0d39e8>"
      ]
     },
     "metadata": {},
     "output_type": "display_data"
    }
   ],
   "source": [
    "plt.plot(lambdaall,BIC, color = \"Magenta\")\n",
    "plt.ylabel(\"BIC values\")\n",
    "plt.xlabel(\"lambda values\")"
   ]
  },
  {
   "cell_type": "markdown",
   "metadata": {},
   "source": [
    "### Part 3 Implement your own Cross-validation\n",
    "\n",
    "Please use the K-fold function in sklearn as [sklearn.model_selection.KFold](http://scikit-learn.org/stable/modules/generated/sklearn.model_selection.KFold.html) to perform cross-validation. "
   ]
  },
  {
   "cell_type": "code",
   "execution_count": 53,
   "metadata": {},
   "outputs": [
    {
     "name": "stdout",
     "output_type": "stream",
     "text": [
      "The minimum MSE is: -0.5681743544671313\n"
     ]
    }
   ],
   "source": [
    "p = 30\n",
    "from sklearn.model_selection import KFold\n",
    "kf = KFold(n_splits=50,shuffle=True)\n",
    "y_train1 = Ytrain.reshape(-1,1)\n",
    "error = []\n",
    "allalpha=  [1e-13, 1e-12,1e-11,1e-10, 1e-8, 1e-4, 1e-3,1e-2, 1, 5, 10, 20]\n",
    "nalpha = len(allalpha)\n",
    "valscore = np.zeros((nalpha,50))\n",
    "for i,alpha in enumerate(allalpha):\n",
    "    for j,(train_index, val_index) in enumerate(kf.split(X)):\n",
    "        X_train, X_val = X1[train_index], X1[val_index]\n",
    "        y_train, y_val = Y[train_index], Y[val_index]\n",
    "        \n",
    "        # Put your own code here, remember to put normalize=True for 'Ridge' Method\n",
    "        clf2 = Ridge(alpha=alpha,normalize=True)\n",
    "        clf2.fit(X_train,y_train)\n",
    "        valscore[i,j] = np.sum((y_val-(clf2.predict(X_val))**2))\n",
    "    mean_square_error = valscore.mean(axis=1)\n",
    "\n",
    "print(\"The minimum MSE is:\", min(mean_square_error))"
   ]
  },
  {
   "cell_type": "code",
   "execution_count": 49,
   "metadata": {},
   "outputs": [
    {
     "data": {
      "text/plain": [
       "Text(0.5,0,'Alpha Values')"
      ]
     },
     "execution_count": 49,
     "metadata": {},
     "output_type": "execute_result"
    },
    {
     "data": {
      "image/png": "[encoded data removed]",
      "text/plain": [
       "<matplotlib.figure.Figure at 0x1c04d993550>"
      ]
     },
     "metadata": {},
     "output_type": "display_data"
    }
   ],
   "source": [
    "plt.plot(allalpha,error, color = \"Red\")\n",
    "plt.ylabel(\"Error Values\")\n",
    "plt.xlabel(\"Alpha Values\")"
   ]
  }
 ],
 "metadata": {
  "kernelspec": {
   "display_name": "Python 3",
   "language": "python",
   "name": "python3"
  },
  "language_info": {
   "codemirror_mode": {
    "name": "ipython",
    "version": 3
   },
   "file_extension": ".py",
   "mimetype": "text/x-python",
   "name": "python",
   "nbconvert_exporter": "python",
   "pygments_lexer": "ipython3",
   "version": "3.6.4"
  }
 },
 "nbformat": 4,
 "nbformat_minor": 2
}
